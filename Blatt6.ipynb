{
 "cells": [
  {
   "cell_type": "code",
   "execution_count": 19,
   "metadata": {},
   "outputs": [],
   "source": [
    "%matplotlib inline\n",
    "import matplotlib.pyplot as plt\n",
    "from mplhep.plot import histplot\n",
    "import numpy as np"
   ]
  },
  {
   "cell_type": "code",
   "execution_count": 20,
   "metadata": {},
   "outputs": [],
   "source": [
    "def dEdx(z,m,P,Z=18,A=40,rho=1.78e-3): # default fuer Argon\n",
    "    ne = rho/(A) * 6.022e23 * Z\n",
    "    I = 16*Z**(0.9)\n",
    "    D = 5.1e-19 #in MeV cm^2\n",
    "    #print(\"ne\",ne)\n",
    "    #print(\"I\",I)\n",
    "    #print(\"D\",D)\n",
    "\n",
    "    E = np.sqrt(m**2 + P**2)\n",
    "    beta = P/E\n",
    "    gamma = E/m\n",
    "    print(\"E = %.2f MeV\"%(E*1e-6))\n",
    "    print(\"beta\",beta)\n",
    "    print(\"gamma\",gamma)\n",
    "    bethe = D*z**2*ne/beta**2\n",
    "    #print(\"bethe part1\",bethe)\n",
    "    bethe *= (np.log(2*511e3 * beta**2 * gamma**2/I) - beta**2)\n",
    "    return bethe"
   ]
  },
  {
   "cell_type": "code",
   "execution_count": 21,
   "metadata": {},
   "outputs": [],
   "source": [
    "particles = {\n",
    "    'proton':{'mass':938.272e6,'z':1},\n",
    "    'pion':{'mass':139.6e6,'z':1},\n",
    "    'Kaon':{'mass':493.7e6,'z':1},\n",
    "    'muon':{'mass':105e6,'z':-1}\n",
    "}"
   ]
  },
  {
   "cell_type": "code",
   "execution_count": 22,
   "metadata": {},
   "outputs": [
    {
     "name": "stdout",
     "output_type": "stream",
     "text": [
      "----------\n",
      "proton\n",
      "E = 1233.03 MeV\n",
      "beta 0.6488100628642278\n",
      "gamma 1.314146109542037\n",
      "-dEdx = 4.5136 keV/cm\n",
      "----------\n",
      "pion\n",
      "E = 812.09 MeV\n",
      "beta 0.9851139873338348\n",
      "gamma 5.817254753734365\n",
      "-dEdx = 2.7845 keV/cm\n",
      "----------\n",
      "Kaon\n",
      "E = 940.07 MeV\n",
      "beta 0.8509965646151195\n",
      "gamma 1.904140774265826\n",
      "-dEdx = 2.9569 keV/cm\n",
      "----------\n",
      "muon\n",
      "E = 806.86 MeV\n",
      "beta 0.9914964278645998\n",
      "gamma 7.684392404173228\n",
      "-dEdx = 2.8882 keV/cm\n"
     ]
    }
   ],
   "source": [
    "#Aufgabe2a\n",
    "for name,prop in particles.items():\n",
    "    print('-'*10)\n",
    "    print(name)\n",
    "    print('-dEdx = %.4f keV/cm'%(dEdx(prop['z'],prop['mass'],800e6)*1e-3))"
   ]
  },
  {
   "cell_type": "code",
   "execution_count": 23,
   "metadata": {},
   "outputs": [
    {
     "name": "stdout",
     "output_type": "stream",
     "text": [
      "----------\n",
      "pion\n",
      "E = 812.09 MeV\n",
      "beta 0.9851139873338348\n",
      "gamma 5.817254753734365\n",
      "-dEdx = 4.1315 MeV/cm\n",
      "----------\n",
      "Kaon\n",
      "E = 940.07 MeV\n",
      "beta 0.8509965646151195\n",
      "gamma 1.904140774265826\n",
      "-dEdx = 4.4104 MeV/cm\n"
     ]
    }
   ],
   "source": [
    "#Aufgabe 2b\n",
    "for name in ['pion','Kaon']:\n",
    "    print('-'*10)\n",
    "    print(name)\n",
    "    print(\"-dEdx = %.4f MeV/cm\"%(1e-6*dEdx(particles[name]['z'],particles[name]['mass'],0.8e9,14,28,2.329)))"
   ]
  },
  {
   "cell_type": "code",
   "execution_count": 24,
   "metadata": {},
   "outputs": [],
   "source": [
    "me = 0.510998 #MeV\n",
    "mmu = 105.65 #MeV\n",
    "def E(x,E0,X0):\n",
    "    ionisation = 2e6*3*X0*1e2\n",
    "    return E0*(1+ionisation/E0)*np.exp(-x/X0) - ionisation"
   ]
  },
  {
   "cell_type": "code",
   "execution_count": 25,
   "metadata": {},
   "outputs": [
    {
     "name": "stdout",
     "output_type": "stream",
     "text": [
      "E(100m)\t = 430.93 GeV\n",
      "E(0)\t = 500.00 GeV\n"
     ]
    }
   ],
   "source": [
    "print('E(100m)\\t = %.2f GeV'%(E(100,500e9,0.12*(mmu**2/me**2))*1e-9))\n",
    "print('E(0)\\t = %.2f GeV'%(E(0,500e9,0.12*(mmu**2/me**2))*1e-9))"
   ]
  },
  {
   "cell_type": "code",
   "execution_count": 26,
   "metadata": {},
   "outputs": [
    {
     "data": {
      "text/plain": [
       "5129.580481240443"
      ]
     },
     "execution_count": 26,
     "metadata": {},
     "output_type": "execute_result"
    }
   ],
   "source": [
    "12e-2*(mmu**2/me**2)"
   ]
  }
 ],
 "metadata": {
  "kernelspec": {
   "display_name": "Python 3",
   "language": "python",
   "name": "python3"
  },
  "language_info": {
   "codemirror_mode": {
    "name": "ipython",
    "version": 3
   },
   "file_extension": ".py",
   "mimetype": "text/x-python",
   "name": "python",
   "nbconvert_exporter": "python",
   "pygments_lexer": "ipython3",
   "version": "3.8.3"
  }
 },
 "nbformat": 4,
 "nbformat_minor": 4
}
